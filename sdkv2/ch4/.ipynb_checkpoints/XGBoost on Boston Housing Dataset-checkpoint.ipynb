{
 "cells": [
  {
   "cell_type": "code",
   "execution_count": 1,
   "metadata": {},
   "outputs": [],
   "source": [
    "import pandas as pd\n",
    "\n",
    "dataset = pd.read_csv('housing.csv')"
   ]
  },
  {
   "cell_type": "code",
   "execution_count": 12,
   "metadata": {},
   "outputs": [
    {
     "name": "stdout",
     "output_type": "stream",
     "text": [
      "(506, 13)\n"
     ]
    },
    {
     "data": {
      "text/html": [
       "<div>\n",
       "<style scoped>\n",
       "    .dataframe tbody tr th:only-of-type {\n",
       "        vertical-align: middle;\n",
       "    }\n",
       "\n",
       "    .dataframe tbody tr th {\n",
       "        vertical-align: top;\n",
       "    }\n",
       "\n",
       "    .dataframe thead th {\n",
       "        text-align: right;\n",
       "    }\n",
       "</style>\n",
       "<table border=\"1\" class=\"dataframe\">\n",
       "  <thead>\n",
       "    <tr style=\"text-align: right;\">\n",
       "      <th></th>\n",
       "      <th>crim</th>\n",
       "      <th>zn</th>\n",
       "      <th>indus</th>\n",
       "      <th>chas</th>\n",
       "      <th>nox</th>\n",
       "    </tr>\n",
       "  </thead>\n",
       "  <tbody>\n",
       "    <tr>\n",
       "      <th>0</th>\n",
       "      <td>0.00632</td>\n",
       "      <td>18.0</td>\n",
       "      <td>2.31</td>\n",
       "      <td>0</td>\n",
       "      <td>0.538</td>\n",
       "    </tr>\n",
       "    <tr>\n",
       "      <th>1</th>\n",
       "      <td>0.02731</td>\n",
       "      <td>0.0</td>\n",
       "      <td>7.07</td>\n",
       "      <td>0</td>\n",
       "      <td>0.469</td>\n",
       "    </tr>\n",
       "    <tr>\n",
       "      <th>2</th>\n",
       "      <td>0.02729</td>\n",
       "      <td>0.0</td>\n",
       "      <td>7.07</td>\n",
       "      <td>0</td>\n",
       "      <td>0.469</td>\n",
       "    </tr>\n",
       "    <tr>\n",
       "      <th>3</th>\n",
       "      <td>0.03237</td>\n",
       "      <td>0.0</td>\n",
       "      <td>2.18</td>\n",
       "      <td>0</td>\n",
       "      <td>0.458</td>\n",
       "    </tr>\n",
       "    <tr>\n",
       "      <th>4</th>\n",
       "      <td>0.06905</td>\n",
       "      <td>0.0</td>\n",
       "      <td>2.18</td>\n",
       "      <td>0</td>\n",
       "      <td>0.458</td>\n",
       "    </tr>\n",
       "  </tbody>\n",
       "</table>\n",
       "</div>"
      ],
      "text/plain": [
       "      crim    zn  indus  chas    nox\n",
       "0  0.00632  18.0   2.31     0  0.538\n",
       "1  0.02731   0.0   7.07     0  0.469\n",
       "2  0.02729   0.0   7.07     0  0.469\n",
       "3  0.03237   0.0   2.18     0  0.458\n",
       "4  0.06905   0.0   2.18     0  0.458"
      ]
     },
     "execution_count": 12,
     "metadata": {},
     "output_type": "execute_result"
    }
   ],
   "source": [
    "print(dataset.shape)\n",
    "dataset.iloc[:5,:5]"
   ]
  },
  {
   "cell_type": "code",
   "execution_count": 13,
   "metadata": {},
   "outputs": [],
   "source": [
    "# Move 'medv' column to front\n",
    "dataset = pd.concat([dataset['medv'], dataset.drop(['medv'], axis=1)], axis=1)"
   ]
  },
  {
   "cell_type": "code",
   "execution_count": 14,
   "metadata": {},
   "outputs": [
    {
     "name": "stdout",
     "output_type": "stream",
     "text": [
      "(455, 13)\n",
      "(51, 13)\n"
     ]
    }
   ],
   "source": [
    "from sklearn.model_selection import train_test_split\n",
    "training_dataset, validation_dataset = train_test_split(dataset, test_size=0.1)\n",
    "\n",
    "print(training_dataset.shape)\n",
    "print(validation_dataset.shape)"
   ]
  },
  {
   "cell_type": "code",
   "execution_count": 15,
   "metadata": {},
   "outputs": [],
   "source": [
    "training_dataset.to_csv('training_dataset.csv', index=False, header=False)\n",
    "validation_dataset.to_csv('validation_dataset.csv', index=False, header=False)"
   ]
  },
  {
   "cell_type": "code",
   "execution_count": 18,
   "metadata": {},
   "outputs": [
    {
     "name": "stdout",
     "output_type": "stream",
     "text": [
      "2.72.3\n",
      "s3://sagemaker-ap-south-1-362794302980/boston-housing/input/training/training_dataset.csv\n",
      "s3://sagemaker-ap-south-1-362794302980/boston-housing/input/validation/validation_dataset.csv\n"
     ]
    }
   ],
   "source": [
    "import sagemaker\n",
    "\n",
    "print(sagemaker.__version__)\n",
    "\n",
    "sess = sagemaker.Session()\n",
    "bucket = sess.default_bucket()\n",
    "\n",
    "prefix = 'boston-housing'\n",
    "training_data_path = sess.upload_data(path='training_dataset.csv', key_prefix=prefix + '/input/training')\n",
    "validation_data_path = sess.upload_data(path='validation_dataset.csv', key_prefix=prefix + '/input/validation')\n",
    "\n",
    "print(training_data_path)\n",
    "print(validation_data_path)"
   ]
  },
  {
   "cell_type": "code",
   "execution_count": 38,
   "metadata": {},
   "outputs": [
    {
     "name": "stderr",
     "output_type": "stream",
     "text": [
      "train_max_run has been renamed in sagemaker>=2.\n",
      "See: https://sagemaker.readthedocs.io/en/stable/v2.html for details.\n",
      "train_use_spot_instances has been renamed in sagemaker>=2.\n",
      "See: https://sagemaker.readthedocs.io/en/stable/v2.html for details.\n",
      "train_max_wait has been renamed in sagemaker>=2.\n",
      "See: https://sagemaker.readthedocs.io/en/stable/v2.html for details.\n"
     ]
    }
   ],
   "source": [
    "import boto3\n",
    "from sagemaker import image_uris\n",
    "\n",
    "region = boto3.Session().region_name    \n",
    "container = image_uris.retrieve('xgboost', region, version='latest')\n",
    "\n",
    "from sagemaker import get_execution_role\n",
    "role = \"arn:aws:iam::362794302980:role/sagemakerRole\"\n",
    "    \n",
    "xgb_estimator = Estimator(container,\n",
    "    role=role, \n",
    "    instance_count=1,\n",
    "    instance_type='ml.m5.large',\n",
    "    output_path='s3://{}/{}/output'.format(bucket, prefix),\n",
    "    train_use_spot_instances = True,\n",
    "    train_max_run = 100,\n",
    "    train_max_wait = 600\n",
    ")\n",
    "\n",
    "xgb_estimator.set_hyperparameters(objective='reg:linear',\n",
    "                                 num_round=200,\n",
    "                                 early_stopping_rounds=10)"
   ]
  },
  {
   "cell_type": "code",
   "execution_count": 39,
   "metadata": {},
   "outputs": [],
   "source": [
    "training_data_channel   = sagemaker.TrainingInput(s3_data=training_data_path, content_type='text/csv')\n",
    "validation_data_channel = sagemaker.TrainingInput(s3_data=validation_data_path, content_type='text/csv')\n",
    "xgb_data = {'train': training_data_channel, 'validation': validation_data_channel}"
   ]
  },
  {
   "cell_type": "code",
   "execution_count": 40,
   "metadata": {
    "scrolled": true
   },
   "outputs": [
    {
     "name": "stdout",
     "output_type": "stream",
     "text": [
      "2022-01-11 09:45:28 Starting - Starting the training job...\n",
      "2022-01-11 09:45:54 Starting - Launching requested ML instancesProfilerReport-1641894327: InProgress\n",
      "...\n",
      "2022-01-11 09:46:23 Starting - Preparing the instances for training............\n",
      "2022-01-11 09:48:35 Downloading - Downloading input data\n",
      "2022-01-11 09:48:35 Training - Downloading the training image..\u001b[34mArguments: train\u001b[0m\n",
      "\u001b[34m[2022-01-11:09:48:48:INFO] Running standalone xgboost training.\u001b[0m\n",
      "\u001b[34m[2022-01-11:09:48:48:INFO] File size need to be processed in the node: 0.03mb. Available memory size in the node: 132.64mb\u001b[0m\n",
      "\u001b[34m[2022-01-11:09:48:48:INFO] Determined delimiter of CSV input is ','\u001b[0m\n",
      "\u001b[34m[09:48:48] S3DistributionType set as FullyReplicated\u001b[0m\n",
      "\u001b[34m[09:48:48] 455x12 matrix with 5460 entries loaded from /opt/ml/input/data/train?format=csv&label_column=0&delimiter=,\u001b[0m\n",
      "\u001b[34m[2022-01-11:09:48:48:INFO] Determined delimiter of CSV input is ','\u001b[0m\n",
      "\u001b[34m[09:48:48] S3DistributionType set as FullyReplicated\u001b[0m\n",
      "\u001b[34m[09:48:48] 51x12 matrix with 612 entries loaded from /opt/ml/input/data/validation?format=csv&label_column=0&delimiter=,\u001b[0m\n",
      "\u001b[34m[09:48:48] src/tree/updater_prune.cc:74: tree pruning end, 1 roots, 26 extra nodes, 0 pruned nodes, max_depth=5\u001b[0m\n",
      "\u001b[34m[0]#011train-rmse:17.0472#011validation-rmse:17.5929\u001b[0m\n",
      "\u001b[34mMultiple eval metrics have been passed: 'validation-rmse' will be used for early stopping.\u001b[0m\n",
      "\u001b[34mWill train until validation-rmse hasn't improved in 10 rounds.\u001b[0m\n",
      "\u001b[34m[09:48:48] src/tree/updater_prune.cc:74: tree pruning end, 1 roots, 26 extra nodes, 0 pruned nodes, max_depth=6\u001b[0m\n",
      "\u001b[34m[1]#011train-rmse:12.3033#011validation-rmse:12.822\u001b[0m\n",
      "\u001b[34m[09:48:48] src/tree/updater_prune.cc:74: tree pruning end, 1 roots, 36 extra nodes, 0 pruned nodes, max_depth=6\u001b[0m\n",
      "\u001b[34m[2]#011train-rmse:8.93953#011validation-rmse:9.50539\u001b[0m\n",
      "\u001b[34m[09:48:48] src/tree/updater_prune.cc:74: tree pruning end, 1 roots, 56 extra nodes, 0 pruned nodes, max_depth=6\u001b[0m\n",
      "\u001b[34m[3]#011train-rmse:6.5783#011validation-rmse:7.31702\u001b[0m\n",
      "\u001b[34m[09:48:48] src/tree/updater_prune.cc:74: tree pruning end, 1 roots, 58 extra nodes, 0 pruned nodes, max_depth=6\u001b[0m\n",
      "\u001b[34m[4]#011train-rmse:4.90149#011validation-rmse:6.00883\u001b[0m\n",
      "\u001b[34m[09:48:48] src/tree/updater_prune.cc:74: tree pruning end, 1 roots, 54 extra nodes, 0 pruned nodes, max_depth=6\u001b[0m\n",
      "\u001b[34m[5]#011train-rmse:3.73582#011validation-rmse:4.86975\u001b[0m\n",
      "\u001b[34m[09:48:48] src/tree/updater_prune.cc:74: tree pruning end, 1 roots, 64 extra nodes, 0 pruned nodes, max_depth=6\u001b[0m\n",
      "\u001b[34m[6]#011train-rmse:2.90235#011validation-rmse:4.32942\u001b[0m\n",
      "\u001b[34m[09:48:48] src/tree/updater_prune.cc:74: tree pruning end, 1 roots, 64 extra nodes, 0 pruned nodes, max_depth=6\u001b[0m\n",
      "\u001b[34m[7]#011train-rmse:2.31928#011validation-rmse:3.88126\u001b[0m\n",
      "\u001b[34m[09:48:48] src/tree/updater_prune.cc:74: tree pruning end, 1 roots, 64 extra nodes, 0 pruned nodes, max_depth=6\u001b[0m\n",
      "\u001b[34m[8]#011train-rmse:1.92046#011validation-rmse:3.60907\u001b[0m\n",
      "\u001b[34m[09:48:48] src/tree/updater_prune.cc:74: tree pruning end, 1 roots, 54 extra nodes, 0 pruned nodes, max_depth=6\u001b[0m\n",
      "\u001b[34m[9]#011train-rmse:1.65066#011validation-rmse:3.46566\u001b[0m\n",
      "\u001b[34m[09:48:48] src/tree/updater_prune.cc:74: tree pruning end, 1 roots, 54 extra nodes, 0 pruned nodes, max_depth=6\u001b[0m\n",
      "\u001b[34m[10]#011train-rmse:1.46858#011validation-rmse:3.31087\u001b[0m\n",
      "\u001b[34m[09:48:48] src/tree/updater_prune.cc:74: tree pruning end, 1 roots, 50 extra nodes, 0 pruned nodes, max_depth=6\u001b[0m\n",
      "\u001b[34m[11]#011train-rmse:1.34181#011validation-rmse:3.23803\u001b[0m\n",
      "\u001b[34m[09:48:48] src/tree/updater_prune.cc:74: tree pruning end, 1 roots, 48 extra nodes, 0 pruned nodes, max_depth=6\u001b[0m\n",
      "\u001b[34m[12]#011train-rmse:1.26861#011validation-rmse:3.1818\u001b[0m\n",
      "\u001b[34m[09:48:49] src/tree/updater_prune.cc:74: tree pruning end, 1 roots, 52 extra nodes, 0 pruned nodes, max_depth=6\u001b[0m\n",
      "\u001b[34m[13]#011train-rmse:1.18161#011validation-rmse:3.20299\u001b[0m\n",
      "\u001b[34m[09:48:49] src/tree/updater_prune.cc:74: tree pruning end, 1 roots, 60 extra nodes, 0 pruned nodes, max_depth=6\u001b[0m\n",
      "\u001b[34m[14]#011train-rmse:1.10311#011validation-rmse:3.19118\u001b[0m\n",
      "\u001b[34m[09:48:49] src/tree/updater_prune.cc:74: tree pruning end, 1 roots, 58 extra nodes, 0 pruned nodes, max_depth=6\u001b[0m\n",
      "\u001b[34m[15]#011train-rmse:1.03892#011validation-rmse:3.19836\u001b[0m\n",
      "\u001b[34m[09:48:49] src/tree/updater_prune.cc:74: tree pruning end, 1 roots, 42 extra nodes, 0 pruned nodes, max_depth=6\u001b[0m\n",
      "\u001b[34m[16]#011train-rmse:1.0024#011validation-rmse:3.1776\u001b[0m\n",
      "\u001b[34m[09:48:49] src/tree/updater_prune.cc:74: tree pruning end, 1 roots, 78 extra nodes, 0 pruned nodes, max_depth=6\u001b[0m\n",
      "\u001b[34m[17]#011train-rmse:0.942882#011validation-rmse:3.15751\u001b[0m\n",
      "\u001b[34m[09:48:49] src/tree/updater_prune.cc:74: tree pruning end, 1 roots, 40 extra nodes, 0 pruned nodes, max_depth=6\u001b[0m\n",
      "\u001b[34m[18]#011train-rmse:0.912534#011validation-rmse:3.16284\u001b[0m\n",
      "\u001b[34m[09:48:49] src/tree/updater_prune.cc:74: tree pruning end, 1 roots, 62 extra nodes, 0 pruned nodes, max_depth=6\u001b[0m\n",
      "\u001b[34m[19]#011train-rmse:0.877608#011validation-rmse:3.16199\u001b[0m\n",
      "\u001b[34m[09:48:49] src/tree/updater_prune.cc:74: tree pruning end, 1 roots, 76 extra nodes, 0 pruned nodes, max_depth=6\u001b[0m\n",
      "\u001b[34m[20]#011train-rmse:0.837951#011validation-rmse:3.15464\u001b[0m\n",
      "\u001b[34m[09:48:49] src/tree/updater_prune.cc:74: tree pruning end, 1 roots, 60 extra nodes, 0 pruned nodes, max_depth=6\u001b[0m\n",
      "\u001b[34m[21]#011train-rmse:0.790336#011validation-rmse:3.14964\u001b[0m\n",
      "\u001b[34m[09:48:49] src/tree/updater_prune.cc:74: tree pruning end, 1 roots, 46 extra nodes, 0 pruned nodes, max_depth=6\u001b[0m\n",
      "\u001b[34m[22]#011train-rmse:0.767811#011validation-rmse:3.15091\u001b[0m\n",
      "\u001b[34m[09:48:49] src/tree/updater_prune.cc:74: tree pruning end, 1 roots, 58 extra nodes, 0 pruned nodes, max_depth=6\u001b[0m\n",
      "\u001b[34m[23]#011train-rmse:0.735703#011validation-rmse:3.14881\u001b[0m\n",
      "\u001b[34m[09:48:49] src/tree/updater_prune.cc:74: tree pruning end, 1 roots, 102 extra nodes, 0 pruned nodes, max_depth=6\u001b[0m\n",
      "\u001b[34m[24]#011train-rmse:0.686687#011validation-rmse:3.14184\u001b[0m\n",
      "\u001b[34m[09:48:49] src/tree/updater_prune.cc:74: tree pruning end, 1 roots, 54 extra nodes, 0 pruned nodes, max_depth=6\u001b[0m\n",
      "\u001b[34m[25]#011train-rmse:0.668036#011validation-rmse:3.13873\u001b[0m\n",
      "\u001b[34m[09:48:49] src/tree/updater_prune.cc:74: tree pruning end, 1 roots, 50 extra nodes, 0 pruned nodes, max_depth=6\u001b[0m\n",
      "\u001b[34m[26]#011train-rmse:0.646754#011validation-rmse:3.13786\u001b[0m\n",
      "\u001b[34m[09:48:49] src/tree/updater_prune.cc:74: tree pruning end, 1 roots, 56 extra nodes, 0 pruned nodes, max_depth=6\u001b[0m\n",
      "\u001b[34m[09:48:49] src/tree/updater_prune.cc:74: tree pruning end, 1 roots, 28 extra nodes, 0 pruned nodes, max_depth=6\u001b[0m\n",
      "\u001b[34m[27]#011train-rmse:0.620409#011validation-rmse:3.12913\u001b[0m\n",
      "\u001b[34m[28]#011train-rmse:0.615953#011validation-rmse:3.13688\u001b[0m\n",
      "\u001b[34m[09:48:49] src/tree/updater_prune.cc:74: tree pruning end, 1 roots, 74 extra nodes, 0 pruned nodes, max_depth=6\u001b[0m\n",
      "\u001b[34m[29]#011train-rmse:0.588688#011validation-rmse:3.12565\u001b[0m\n",
      "\u001b[34m[09:48:49] src/tree/updater_prune.cc:74: tree pruning end, 1 roots, 38 extra nodes, 0 pruned nodes, max_depth=6\u001b[0m\n",
      "\u001b[34m[30]#011train-rmse:0.571229#011validation-rmse:3.12331\u001b[0m\n",
      "\u001b[34m[09:48:49] src/tree/updater_prune.cc:74: tree pruning end, 1 roots, 78 extra nodes, 0 pruned nodes, max_depth=6\u001b[0m\n",
      "\u001b[34m[31]#011train-rmse:0.534005#011validation-rmse:3.12769\u001b[0m\n",
      "\u001b[34m[09:48:49] src/tree/updater_prune.cc:74: tree pruning end, 1 roots, 82 extra nodes, 0 pruned nodes, max_depth=6\u001b[0m\n",
      "\u001b[34m[32]#011train-rmse:0.501818#011validation-rmse:3.11381\u001b[0m\n",
      "\u001b[34m[09:48:49] src/tree/updater_prune.cc:74: tree pruning end, 1 roots, 54 extra nodes, 0 pruned nodes, max_depth=6\u001b[0m\n",
      "\u001b[34m[33]#011train-rmse:0.48228#011validation-rmse:3.11964\u001b[0m\n",
      "\u001b[34m[09:48:49] src/tree/updater_prune.cc:74: tree pruning end, 1 roots, 56 extra nodes, 0 pruned nodes, max_depth=6\u001b[0m\n",
      "\u001b[34m[34]#011train-rmse:0.461654#011validation-rmse:3.11214\u001b[0m\n",
      "\u001b[34m[09:48:49] src/tree/updater_prune.cc:74: tree pruning end, 1 roots, 56 extra nodes, 0 pruned nodes, max_depth=6\u001b[0m\n",
      "\u001b[34m[35]#011train-rmse:0.446987#011validation-rmse:3.11734\u001b[0m\n",
      "\u001b[34m[09:48:49] src/tree/updater_prune.cc:74: tree pruning end, 1 roots, 100 extra nodes, 0 pruned nodes, max_depth=6\u001b[0m\n",
      "\u001b[34m[36]#011train-rmse:0.409#011validation-rmse:3.12157\u001b[0m\n",
      "\u001b[34m[09:48:49] src/tree/updater_prune.cc:74: tree pruning end, 1 roots, 76 extra nodes, 0 pruned nodes, max_depth=6\u001b[0m\n",
      "\u001b[34m[37]#011train-rmse:0.388152#011validation-rmse:3.12072\u001b[0m\n",
      "\u001b[34m[09:48:49] src/tree/updater_prune.cc:74: tree pruning end, 1 roots, 46 extra nodes, 0 pruned nodes, max_depth=6\u001b[0m\n",
      "\u001b[34m[38]#011train-rmse:0.381821#011validation-rmse:3.12411\u001b[0m\n",
      "\u001b[34m[09:48:49] src/tree/updater_prune.cc:74: tree pruning end, 1 roots, 44 extra nodes, 0 pruned nodes, max_depth=6\u001b[0m\n",
      "\u001b[34m[39]#011train-rmse:0.370845#011validation-rmse:3.1324\u001b[0m\n",
      "\u001b[34m[09:48:49] src/tree/updater_prune.cc:74: tree pruning end, 1 roots, 46 extra nodes, 0 pruned nodes, max_depth=6\u001b[0m\n",
      "\u001b[34m[40]#011train-rmse:0.362032#011validation-rmse:3.13293\u001b[0m\n",
      "\u001b[34m[09:48:49] src/tree/updater_prune.cc:74: tree pruning end, 1 roots, 50 extra nodes, 0 pruned nodes, max_depth=6\u001b[0m\n",
      "\u001b[34m[41]#011train-rmse:0.344101#011validation-rmse:3.12824\u001b[0m\n",
      "\u001b[34m[42]#011train-rmse:0.335539#011validation-rmse:3.1318\u001b[0m\n",
      "\u001b[34m[43]#011train-rmse:0.326048#011validation-rmse:3.13633\u001b[0m\n",
      "\u001b[34m[44]#011train-rmse:0.304436#011validation-rmse:3.1346\u001b[0m\n",
      "\u001b[34mStopping. Best iteration:\u001b[0m\n",
      "\u001b[34m[34]#011train-rmse:0.461654#011validation-rmse:3.11214\u001b[0m\n",
      "\u001b[34m[09:48:49] src/tree/updater_prune.cc:74: tree pruning end, 1 roots, 38 extra nodes, 0 pruned nodes, max_depth=6\u001b[0m\n",
      "\u001b[34m[09:48:49] src/tree/updater_prune.cc:74: tree pruning end, 1 roots, 46 extra nodes, 0 pruned nodes, max_depth=6\u001b[0m\n",
      "\u001b[34m[09:48:49] src/tree/updater_prune.cc:74: tree pruning end, 1 roots, 80 extra nodes, 0 pruned nodes, max_depth=6\u001b[0m\n"
     ]
    },
    {
     "name": "stdout",
     "output_type": "stream",
     "text": [
      "\n",
      "2022-01-11 09:49:00 Uploading - Uploading generated training model\n",
      "2022-01-11 09:49:00 Completed - Training job completed\n",
      "Training seconds: 39\n",
      "Billable seconds: 12\n",
      "Managed Spot Training savings: 69.2%\n"
     ]
    }
   ],
   "source": [
    "xgb_estimator.fit(xgb_data)"
   ]
  },
  {
   "cell_type": "code",
   "execution_count": 41,
   "metadata": {},
   "outputs": [
    {
     "name": "stdout",
     "output_type": "stream",
     "text": [
      "xgb-demo-11-09-55-03\n"
     ]
    }
   ],
   "source": [
    "from time import strftime, gmtime\n",
    "timestamp = strftime('%d-%H-%M-%S', gmtime())\n",
    "\n",
    "endpoint_name = 'xgb-demo-'+timestamp\n",
    "print(endpoint_name)"
   ]
  },
  {
   "cell_type": "code",
   "execution_count": 42,
   "metadata": {},
   "outputs": [
    {
     "name": "stdout",
     "output_type": "stream",
     "text": [
      "--------!"
     ]
    }
   ],
   "source": [
    "xgb_predictor = xgb_estimator.deploy(endpoint_name=endpoint_name, \n",
    "                        initial_instance_count=1, \n",
    "                        instance_type='ml.t2.medium')"
   ]
  },
  {
   "cell_type": "code",
   "execution_count": 43,
   "metadata": {},
   "outputs": [],
   "source": [
    "test_sample = '0.00632,18.00,2.310,0,0.5380,6.5750,65.20,4.0900,1,296.0,15.30,4.98'"
   ]
  },
  {
   "cell_type": "code",
   "execution_count": 44,
   "metadata": {},
   "outputs": [
    {
     "name": "stdout",
     "output_type": "stream",
     "text": [
      "[['24.138395309448242']]\n"
     ]
    }
   ],
   "source": [
    "xgb_predictor.serializer = sagemaker.serializers.CSVSerializer()\n",
    "xgb_predictor.deserializer = sagemaker.deserializers.CSVDeserializer()\n",
    "\n",
    "response = xgb_predictor.predict(test_sample)\n",
    "print(response)"
   ]
  },
  {
   "cell_type": "code",
   "execution_count": 45,
   "metadata": {},
   "outputs": [
    {
     "name": "stdout",
     "output_type": "stream",
     "text": [
      "[['24.138395309448242', '21.528553009033203']]\n"
     ]
    }
   ],
   "source": [
    "test_samples = ['0.00632,18.00,2.310,0,0.5380,6.5750,65.20,4.0900,1,296.0,15.30,4.98',\n",
    "                '0.02731,0.00,7.070,0,0.4690,6.4210,78.90,4.9671,2,242.0,17.80,9.14']\n",
    "\n",
    "response = xgb_predictor.predict(test_samples)\n",
    "print(response)"
   ]
  },
  {
   "cell_type": "code",
   "execution_count": 46,
   "metadata": {},
   "outputs": [
    {
     "name": "stdout",
     "output_type": "stream",
     "text": [
      "b'24.138395309448242'\n"
     ]
    }
   ],
   "source": [
    "runtime = boto3.Session().client(service_name='runtime.sagemaker') \n",
    "\n",
    "response = runtime.invoke_endpoint(EndpointName=endpoint_name, \n",
    "                                  ContentType='text/csv', \n",
    "                                  Body=test_sample)\n",
    "\n",
    "print(response['Body'].read())"
   ]
  },
  {
   "cell_type": "code",
   "execution_count": 47,
   "metadata": {},
   "outputs": [],
   "source": [
    "xgb_predictor.delete_endpoint()"
   ]
  },
  {
   "cell_type": "code",
   "execution_count": null,
   "metadata": {},
   "outputs": [],
   "source": []
  }
 ],
 "metadata": {
  "kernelspec": {
   "display_name": "Python 3 (ipykernel)",
   "language": "python",
   "name": "python3"
  },
  "language_info": {
   "codemirror_mode": {
    "name": "ipython",
    "version": 3
   },
   "file_extension": ".py",
   "mimetype": "text/x-python",
   "name": "python",
   "nbconvert_exporter": "python",
   "pygments_lexer": "ipython3",
   "version": "3.8.12"
  }
 },
 "nbformat": 4,
 "nbformat_minor": 4
}
